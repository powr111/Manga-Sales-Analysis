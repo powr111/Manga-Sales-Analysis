{
 "cells": [
  {
   "cell_type": "code",
   "execution_count": 3,
   "metadata": {},
   "outputs": [],
   "source": [
    "import numpy as np, matplotlib.pyplot as plt, pandas as pd\n",
    "from bs4 import BeautifulSoup\n",
    "import requests\n",
    "from datetime import datetime"
   ]
  },
  {
   "cell_type": "code",
   "execution_count": 4,
   "metadata": {},
   "outputs": [],
   "source": [
    "url = 'https://en.wikipedia.org/wiki/List_of_best-selling_manga'\n",
    "\n",
    "page = requests.get(url)\n",
    "current_time = datetime.now()\n",
    "soup=BeautifulSoup(page.text, 'html')"
   ]
  },
  {
   "cell_type": "code",
   "execution_count": 5,
   "metadata": {},
   "outputs": [],
   "source": [
    "table1=soup.find_all('table',class_='wikitable sortable')[1]\n",
    "table2=soup.find_all('table',class_='wikitable sortable')[2]"
   ]
  },
  {
   "cell_type": "markdown",
   "metadata": {},
   "source": [
    "Cleaning up the HTML tags before they're put into tables"
   ]
  },
  {
   "cell_type": "code",
   "execution_count": 6,
   "metadata": {},
   "outputs": [],
   "source": [
    "for br in table1(\"br\"):\n",
    "    br.replace_with(\" \")\n",
    "for sup in table1(\"sup\"):\n",
    "    sup.replace_with(\"\")\n",
    "    \n",
    "for br in table2(\"br\"):\n",
    "    br.replace_with(\" \")\n",
    "for sup in table2(\"sup\"):\n",
    "    sup.replace_with(\"\")"
   ]
  },
  {
   "cell_type": "code",
   "execution_count": 7,
   "metadata": {},
   "outputs": [],
   "source": [
    "world_titles1=table1.find_all('th')\n",
    "world_titles2=table2.find_all('th')"
   ]
  },
  {
   "cell_type": "code",
   "execution_count": 8,
   "metadata": {},
   "outputs": [],
   "source": [
    "#allows us to make the column titles correctly formatted\n",
    "world_table_titles1=[title.text.replace(' ','_').strip() for title in world_titles1]\n",
    "world_table_titles2=[title.text.replace(' ','_').strip() for title in world_titles2]"
   ]
  },
  {
   "cell_type": "code",
   "execution_count": 9,
   "metadata": {},
   "outputs": [],
   "source": [
    "df1 = pd.DataFrame(columns=world_table_titles1)\n",
    "df2 = pd.DataFrame(columns=world_table_titles2)"
   ]
  },
  {
   "cell_type": "code",
   "execution_count": 10,
   "metadata": {},
   "outputs": [],
   "source": [
    "#names of columns is in tr tags, we get it using the following code\n",
    "column_data = table1.find_all('tr')\n",
    "column_data2 = table2.find_all('tr')"
   ]
  },
  {
   "cell_type": "markdown",
   "metadata": {},
   "source": [
    "For each table adds all the content of the table and adds it to the data frame row by row"
   ]
  },
  {
   "cell_type": "code",
   "execution_count": 11,
   "metadata": {},
   "outputs": [],
   "source": [
    "for row in column_data[1:]:\n",
    "    row_data = row.find_all('td')\n",
    "    individual_row_data = [data.text.strip() for data in row_data]\n",
    "\n",
    "    length=len(df1)\n",
    "    df1.loc[length] = individual_row_data\n",
    "\n",
    "for row in column_data2[1:]:\n",
    "    row_data = row.find_all('td')\n",
    "    individual_row_data = [data.text.strip() for data in row_data]\n",
    "\n",
    "    length=len(df2)\n",
    "    df2.loc[length] = individual_row_data"
   ]
  },
  {
   "cell_type": "code",
   "execution_count": 12,
   "metadata": {},
   "outputs": [],
   "source": [
    "#joins the two tables\n",
    "df = pd.concat([df1, df2], axis=0, ignore_index=True)"
   ]
  },
  {
   "cell_type": "code",
   "execution_count": 13,
   "metadata": {},
   "outputs": [
    {
     "data": {
      "text/html": [
       "<div>\n",
       "<style scoped>\n",
       "    .dataframe tbody tr th:only-of-type {\n",
       "        vertical-align: middle;\n",
       "    }\n",
       "\n",
       "    .dataframe tbody tr th {\n",
       "        vertical-align: top;\n",
       "    }\n",
       "\n",
       "    .dataframe thead th {\n",
       "        text-align: right;\n",
       "    }\n",
       "</style>\n",
       "<table border=\"1\" class=\"dataframe\">\n",
       "  <thead>\n",
       "    <tr style=\"text-align: right;\">\n",
       "      <th></th>\n",
       "      <th>Manga_series</th>\n",
       "      <th>Author(s)</th>\n",
       "      <th>Publisher</th>\n",
       "      <th>Demographic</th>\n",
       "      <th>No._of_collected_volumes</th>\n",
       "      <th>Serialized</th>\n",
       "      <th>Approximate_sales</th>\n",
       "      <th>Average_sales_per_volume</th>\n",
       "    </tr>\n",
       "  </thead>\n",
       "  <tbody>\n",
       "    <tr>\n",
       "      <th>0</th>\n",
       "      <td>Captain Tsubasa</td>\n",
       "      <td>Yōichi Takahashi</td>\n",
       "      <td>Shueisha</td>\n",
       "      <td>Shōnen/Seinen</td>\n",
       "      <td>108</td>\n",
       "      <td>1981–present</td>\n",
       "      <td>90 million†</td>\n",
       "      <td>0.83 million</td>\n",
       "    </tr>\n",
       "    <tr>\n",
       "      <th>1</th>\n",
       "      <td>Jujutsu Kaisen</td>\n",
       "      <td>Gege Akutami</td>\n",
       "      <td>Shueisha</td>\n",
       "      <td>Shōnen</td>\n",
       "      <td>26</td>\n",
       "      <td>2018–present</td>\n",
       "      <td>90 million†‡</td>\n",
       "      <td>3.4 million</td>\n",
       "    </tr>\n",
       "    <tr>\n",
       "      <th>2</th>\n",
       "      <td>Sazae-san</td>\n",
       "      <td>Machiko Hasegawa</td>\n",
       "      <td>Kodansha</td>\n",
       "      <td>—</td>\n",
       "      <td>45</td>\n",
       "      <td>1946–1974</td>\n",
       "      <td>86 million</td>\n",
       "      <td>1.91 million</td>\n",
       "    </tr>\n",
       "    <tr>\n",
       "      <th>3</th>\n",
       "      <td>Hunter × Hunter</td>\n",
       "      <td>Yoshihiro Togashi</td>\n",
       "      <td>Shueisha</td>\n",
       "      <td>Shōnen</td>\n",
       "      <td>37</td>\n",
       "      <td>1998–present (on hiatus)</td>\n",
       "      <td>84 million†‡</td>\n",
       "      <td>2.33 million</td>\n",
       "    </tr>\n",
       "    <tr>\n",
       "      <th>4</th>\n",
       "      <td>Vagabond</td>\n",
       "      <td>Takehiko Inoue</td>\n",
       "      <td>Kodansha</td>\n",
       "      <td>Seinen</td>\n",
       "      <td>37</td>\n",
       "      <td>1998–2015 (on hiatus)</td>\n",
       "      <td>82 million</td>\n",
       "      <td>2.21 million</td>\n",
       "    </tr>\n",
       "    <tr>\n",
       "      <th>...</th>\n",
       "      <td>...</td>\n",
       "      <td>...</td>\n",
       "      <td>...</td>\n",
       "      <td>...</td>\n",
       "      <td>...</td>\n",
       "      <td>...</td>\n",
       "      <td>...</td>\n",
       "      <td>...</td>\n",
       "    </tr>\n",
       "    <tr>\n",
       "      <th>86</th>\n",
       "      <td>Tokimeki Tonight</td>\n",
       "      <td>Koi Ikeno</td>\n",
       "      <td>Shueisha</td>\n",
       "      <td>Shōjo</td>\n",
       "      <td>30</td>\n",
       "      <td>1982–1994</td>\n",
       "      <td>30 million†</td>\n",
       "      <td>1.00 million</td>\n",
       "    </tr>\n",
       "    <tr>\n",
       "      <th>87</th>\n",
       "      <td>Toriko</td>\n",
       "      <td>Mitsutoshi Shimabukuro</td>\n",
       "      <td>Shueisha</td>\n",
       "      <td>Shōnen</td>\n",
       "      <td>43</td>\n",
       "      <td>2008–2016</td>\n",
       "      <td>30 million†</td>\n",
       "      <td>0.69 million</td>\n",
       "    </tr>\n",
       "    <tr>\n",
       "      <th>88</th>\n",
       "      <td>Ushio and Tora</td>\n",
       "      <td>Kazuhiro Fujita</td>\n",
       "      <td>Shogakukan</td>\n",
       "      <td>Shōnen</td>\n",
       "      <td>33</td>\n",
       "      <td>1990–1996</td>\n",
       "      <td>30 million†</td>\n",
       "      <td>0.90 million</td>\n",
       "    </tr>\n",
       "    <tr>\n",
       "      <th>89</th>\n",
       "      <td>Yawara!</td>\n",
       "      <td>Naoki Urasawa</td>\n",
       "      <td>Shogakukan</td>\n",
       "      <td>Seinen</td>\n",
       "      <td>29</td>\n",
       "      <td>1986–1993</td>\n",
       "      <td>30 million†</td>\n",
       "      <td>1.03 million</td>\n",
       "    </tr>\n",
       "    <tr>\n",
       "      <th>90</th>\n",
       "      <td>Yowamushi Pedal</td>\n",
       "      <td>Wataru Watanabe</td>\n",
       "      <td>Akita Shoten</td>\n",
       "      <td>Shōnen</td>\n",
       "      <td>84</td>\n",
       "      <td>2008–present</td>\n",
       "      <td>30 million†</td>\n",
       "      <td>0.35 million</td>\n",
       "    </tr>\n",
       "  </tbody>\n",
       "</table>\n",
       "<p>91 rows × 8 columns</p>\n",
       "</div>"
      ],
      "text/plain": [
       "        Manga_series               Author(s)     Publisher    Demographic  \\\n",
       "0    Captain Tsubasa        Yōichi Takahashi      Shueisha  Shōnen/Seinen   \n",
       "1     Jujutsu Kaisen            Gege Akutami      Shueisha         Shōnen   \n",
       "2          Sazae-san        Machiko Hasegawa      Kodansha              —   \n",
       "3    Hunter × Hunter       Yoshihiro Togashi      Shueisha         Shōnen   \n",
       "4           Vagabond          Takehiko Inoue      Kodansha         Seinen   \n",
       "..               ...                     ...           ...            ...   \n",
       "86  Tokimeki Tonight               Koi Ikeno      Shueisha          Shōjo   \n",
       "87            Toriko  Mitsutoshi Shimabukuro      Shueisha         Shōnen   \n",
       "88    Ushio and Tora         Kazuhiro Fujita    Shogakukan         Shōnen   \n",
       "89           Yawara!           Naoki Urasawa    Shogakukan         Seinen   \n",
       "90   Yowamushi Pedal         Wataru Watanabe  Akita Shoten         Shōnen   \n",
       "\n",
       "   No._of_collected_volumes                Serialized Approximate_sales  \\\n",
       "0                       108              1981–present       90 million†   \n",
       "1                        26              2018–present      90 million†‡   \n",
       "2                        45                 1946–1974        86 million   \n",
       "3                        37  1998–present (on hiatus)      84 million†‡   \n",
       "4                        37     1998–2015 (on hiatus)        82 million   \n",
       "..                      ...                       ...               ...   \n",
       "86                       30                 1982–1994       30 million†   \n",
       "87                       43                 2008–2016       30 million†   \n",
       "88                       33                 1990–1996       30 million†   \n",
       "89                       29                 1986–1993       30 million†   \n",
       "90                       84              2008–present       30 million†   \n",
       "\n",
       "   Average_sales_per_volume  \n",
       "0              0.83 million  \n",
       "1               3.4 million  \n",
       "2              1.91 million  \n",
       "3              2.33 million  \n",
       "4              2.21 million  \n",
       "..                      ...  \n",
       "86             1.00 million  \n",
       "87             0.69 million  \n",
       "88             0.90 million  \n",
       "89             1.03 million  \n",
       "90             0.35 million  \n",
       "\n",
       "[91 rows x 8 columns]"
      ]
     },
     "execution_count": 13,
     "metadata": {},
     "output_type": "execute_result"
    }
   ],
   "source": [
    "df"
   ]
  },
  {
   "cell_type": "markdown",
   "metadata": {},
   "source": [
    "Code is used to create a column which states if the manga has gone on hiatus"
   ]
  },
  {
   "cell_type": "code",
   "execution_count": 14,
   "metadata": {},
   "outputs": [],
   "source": [
    "hiatus=[]\n",
    "\n",
    "for i in range(len(df['Serialized'])):\n",
    "    #checks if the serialized data has the word hiatus in it and depending on this will either set the row to true or false\n",
    "    if df['Serialized'].str.contains(\"hiatus\")[i]==True:\n",
    "        hiatus.append(True)\n",
    "    else:\n",
    "        hiatus.append(False)\n",
    "#adds the column to the 6th index with the name 'Hiatus'\n",
    "df.insert(6,'Hiatus',hiatus,True)"
   ]
  },
  {
   "cell_type": "markdown",
   "metadata": {},
   "source": [
    "The following section will clean data in the dataframe"
   ]
  },
  {
   "cell_type": "code",
   "execution_count": 15,
   "metadata": {},
   "outputs": [],
   "source": [
    "#removes cell 5 as it's publisher isn't useful and it alone isn't significant enough to clean as it's a problem unique to that row\n",
    "df.drop(5, axis=0, inplace=True)\n",
    "df.drop(2, axis=0, inplace=True)\n",
    "df.reset_index(drop=True,inplace=True)"
   ]
  },
  {
   "cell_type": "code",
   "execution_count": 16,
   "metadata": {},
   "outputs": [],
   "source": [
    "#removing the crosses from the sales so that further cleaning can be done\n",
    "df['Approximate_sales']=df['Approximate_sales'].str.strip('†‡')\n",
    "\n",
    "#cleans the Serialized column and ensures it only includes the start and end date\n",
    "df['Serialized']=df['Serialized'].str.replace('present', current_time.strftime('%Y'))\n",
    "df['Serialized']=df['Serialized'].str.rstrip(' (on hiatus)')\n",
    "\n",
    "#replaces the any - which represent an empty cell with a blank string\n",
    "df['Demographic']=df['Demographic'].str.replace('—','Na')\n",
    "\n",
    "#removes the million from the sales columns\n",
    "df['Approximate_sales']=df['Approximate_sales'].str.rstrip(' million')\n",
    "df['Average_sales_per_volume']=df['Average_sales_per_volume'].str.rstrip(' million')\n",
    "\n",
    "#splits any cells in the volumes and demographic section which have a content that aren't just one value and fixes it\n",
    "df['No._of_collected_volumes'] = df['No._of_collected_volumes'].str.split('/').str[0]\n",
    "df['Demographic'] = df['Demographic'].str.split('/').str[0]\n",
    "\n",
    "#converts the string values into floats and integers so that analysis can be performed\n",
    "df['Approximate_sales']=df['Approximate_sales'].astype(float)\n",
    "df['Average_sales_per_volume']=df['Average_sales_per_volume'].astype(float)\n",
    "df['No._of_collected_volumes']=df['No._of_collected_volumes'].astype(int)\n",
    "\n",
    "#ensures that the values which were originally in the millions is in the millions\n",
    "df['Approximate_sales']=df['Approximate_sales'].mul(1000000)\n",
    "df['Average_sales_per_volume']=df['Average_sales_per_volume'].mul(1000000)"
   ]
  },
  {
   "cell_type": "code",
   "execution_count": 17,
   "metadata": {},
   "outputs": [
    {
     "data": {
      "text/html": [
       "<div>\n",
       "<style scoped>\n",
       "    .dataframe tbody tr th:only-of-type {\n",
       "        vertical-align: middle;\n",
       "    }\n",
       "\n",
       "    .dataframe tbody tr th {\n",
       "        vertical-align: top;\n",
       "    }\n",
       "\n",
       "    .dataframe thead th {\n",
       "        text-align: right;\n",
       "    }\n",
       "</style>\n",
       "<table border=\"1\" class=\"dataframe\">\n",
       "  <thead>\n",
       "    <tr style=\"text-align: right;\">\n",
       "      <th></th>\n",
       "      <th>Manga_series</th>\n",
       "      <th>Author(s)</th>\n",
       "      <th>Publisher</th>\n",
       "      <th>Demographic</th>\n",
       "      <th>No._of_collected_volumes</th>\n",
       "      <th>Serialized</th>\n",
       "      <th>Hiatus</th>\n",
       "      <th>Approximate_sales</th>\n",
       "      <th>Average_sales_per_volume</th>\n",
       "    </tr>\n",
       "  </thead>\n",
       "  <tbody>\n",
       "    <tr>\n",
       "      <th>0</th>\n",
       "      <td>Captain Tsubasa</td>\n",
       "      <td>Yōichi Takahashi</td>\n",
       "      <td>Shueisha</td>\n",
       "      <td>Shōnen</td>\n",
       "      <td>108</td>\n",
       "      <td>1981–2024</td>\n",
       "      <td>False</td>\n",
       "      <td>90000000.0</td>\n",
       "      <td>830000.0</td>\n",
       "    </tr>\n",
       "    <tr>\n",
       "      <th>1</th>\n",
       "      <td>Jujutsu Kaisen</td>\n",
       "      <td>Gege Akutami</td>\n",
       "      <td>Shueisha</td>\n",
       "      <td>Shōnen</td>\n",
       "      <td>26</td>\n",
       "      <td>2018–2024</td>\n",
       "      <td>False</td>\n",
       "      <td>90000000.0</td>\n",
       "      <td>3400000.0</td>\n",
       "    </tr>\n",
       "    <tr>\n",
       "      <th>2</th>\n",
       "      <td>Hunter × Hunter</td>\n",
       "      <td>Yoshihiro Togashi</td>\n",
       "      <td>Shueisha</td>\n",
       "      <td>Shōnen</td>\n",
       "      <td>37</td>\n",
       "      <td>1998–2024</td>\n",
       "      <td>True</td>\n",
       "      <td>84000000.0</td>\n",
       "      <td>2330000.0</td>\n",
       "    </tr>\n",
       "    <tr>\n",
       "      <th>3</th>\n",
       "      <td>Vagabond</td>\n",
       "      <td>Takehiko Inoue</td>\n",
       "      <td>Kodansha</td>\n",
       "      <td>Seinen</td>\n",
       "      <td>37</td>\n",
       "      <td>1998–2015</td>\n",
       "      <td>True</td>\n",
       "      <td>82000000.0</td>\n",
       "      <td>2210000.0</td>\n",
       "    </tr>\n",
       "    <tr>\n",
       "      <th>4</th>\n",
       "      <td>Sangokushi</td>\n",
       "      <td>Mitsuteru Yokoyama</td>\n",
       "      <td>Ushio Shuppansha</td>\n",
       "      <td>Shōnen</td>\n",
       "      <td>60</td>\n",
       "      <td>1971–1986</td>\n",
       "      <td>False</td>\n",
       "      <td>80000000.0</td>\n",
       "      <td>1330000.0</td>\n",
       "    </tr>\n",
       "    <tr>\n",
       "      <th>...</th>\n",
       "      <td>...</td>\n",
       "      <td>...</td>\n",
       "      <td>...</td>\n",
       "      <td>...</td>\n",
       "      <td>...</td>\n",
       "      <td>...</td>\n",
       "      <td>...</td>\n",
       "      <td>...</td>\n",
       "      <td>...</td>\n",
       "    </tr>\n",
       "    <tr>\n",
       "      <th>84</th>\n",
       "      <td>Tokimeki Tonight</td>\n",
       "      <td>Koi Ikeno</td>\n",
       "      <td>Shueisha</td>\n",
       "      <td>Shōjo</td>\n",
       "      <td>30</td>\n",
       "      <td>1982–1994</td>\n",
       "      <td>False</td>\n",
       "      <td>30000000.0</td>\n",
       "      <td>1000000.0</td>\n",
       "    </tr>\n",
       "    <tr>\n",
       "      <th>85</th>\n",
       "      <td>Toriko</td>\n",
       "      <td>Mitsutoshi Shimabukuro</td>\n",
       "      <td>Shueisha</td>\n",
       "      <td>Shōnen</td>\n",
       "      <td>43</td>\n",
       "      <td>2008–2016</td>\n",
       "      <td>False</td>\n",
       "      <td>30000000.0</td>\n",
       "      <td>690000.0</td>\n",
       "    </tr>\n",
       "    <tr>\n",
       "      <th>86</th>\n",
       "      <td>Ushio and Tora</td>\n",
       "      <td>Kazuhiro Fujita</td>\n",
       "      <td>Shogakukan</td>\n",
       "      <td>Shōnen</td>\n",
       "      <td>33</td>\n",
       "      <td>1990–1996</td>\n",
       "      <td>False</td>\n",
       "      <td>30000000.0</td>\n",
       "      <td>900000.0</td>\n",
       "    </tr>\n",
       "    <tr>\n",
       "      <th>87</th>\n",
       "      <td>Yawara!</td>\n",
       "      <td>Naoki Urasawa</td>\n",
       "      <td>Shogakukan</td>\n",
       "      <td>Seinen</td>\n",
       "      <td>29</td>\n",
       "      <td>1986–1993</td>\n",
       "      <td>False</td>\n",
       "      <td>30000000.0</td>\n",
       "      <td>1030000.0</td>\n",
       "    </tr>\n",
       "    <tr>\n",
       "      <th>88</th>\n",
       "      <td>Yowamushi Pedal</td>\n",
       "      <td>Wataru Watanabe</td>\n",
       "      <td>Akita Shoten</td>\n",
       "      <td>Shōnen</td>\n",
       "      <td>84</td>\n",
       "      <td>2008–2024</td>\n",
       "      <td>False</td>\n",
       "      <td>30000000.0</td>\n",
       "      <td>350000.0</td>\n",
       "    </tr>\n",
       "  </tbody>\n",
       "</table>\n",
       "<p>89 rows × 9 columns</p>\n",
       "</div>"
      ],
      "text/plain": [
       "        Manga_series               Author(s)         Publisher Demographic  \\\n",
       "0    Captain Tsubasa        Yōichi Takahashi          Shueisha      Shōnen   \n",
       "1     Jujutsu Kaisen            Gege Akutami          Shueisha      Shōnen   \n",
       "2    Hunter × Hunter       Yoshihiro Togashi          Shueisha      Shōnen   \n",
       "3           Vagabond          Takehiko Inoue          Kodansha      Seinen   \n",
       "4         Sangokushi      Mitsuteru Yokoyama  Ushio Shuppansha      Shōnen   \n",
       "..               ...                     ...               ...         ...   \n",
       "84  Tokimeki Tonight               Koi Ikeno          Shueisha       Shōjo   \n",
       "85            Toriko  Mitsutoshi Shimabukuro          Shueisha      Shōnen   \n",
       "86    Ushio and Tora         Kazuhiro Fujita        Shogakukan      Shōnen   \n",
       "87           Yawara!           Naoki Urasawa        Shogakukan      Seinen   \n",
       "88   Yowamushi Pedal         Wataru Watanabe      Akita Shoten      Shōnen   \n",
       "\n",
       "    No._of_collected_volumes Serialized  Hiatus  Approximate_sales  \\\n",
       "0                        108  1981–2024   False         90000000.0   \n",
       "1                         26  2018–2024   False         90000000.0   \n",
       "2                         37  1998–2024    True         84000000.0   \n",
       "3                         37  1998–2015    True         82000000.0   \n",
       "4                         60  1971–1986   False         80000000.0   \n",
       "..                       ...        ...     ...                ...   \n",
       "84                        30  1982–1994   False         30000000.0   \n",
       "85                        43  2008–2016   False         30000000.0   \n",
       "86                        33  1990–1996   False         30000000.0   \n",
       "87                        29  1986–1993   False         30000000.0   \n",
       "88                        84  2008–2024   False         30000000.0   \n",
       "\n",
       "    Average_sales_per_volume  \n",
       "0                   830000.0  \n",
       "1                  3400000.0  \n",
       "2                  2330000.0  \n",
       "3                  2210000.0  \n",
       "4                  1330000.0  \n",
       "..                       ...  \n",
       "84                 1000000.0  \n",
       "85                  690000.0  \n",
       "86                  900000.0  \n",
       "87                 1030000.0  \n",
       "88                  350000.0  \n",
       "\n",
       "[89 rows x 9 columns]"
      ]
     },
     "execution_count": 17,
     "metadata": {},
     "output_type": "execute_result"
    }
   ],
   "source": [
    "df"
   ]
  },
  {
   "cell_type": "code",
   "execution_count": 18,
   "metadata": {},
   "outputs": [],
   "source": [
    "class analysis:\n",
    "    def __init__(self, data):\n",
    "        \"\"\"\" this function will be used to set the data up\"\"\"\n",
    "        self.data=data\n",
    "\n",
    "    def top_mangas_publisher(self):\n",
    "        \"\"\" this function will be made to return the top publishers based on the approximate sales they make\"\"\"\n",
    "        max_sales = self.data['Approximate_sales'].max()\n",
    "        top_publishers = self.data[self.data['Approximate_sales'] == max_sales]['Publisher'].unique()\n",
    "        return top_publishers.tolist()\n",
    "    \n",
    "    def volumes_hiatus_rel(self):\n",
    "        \"\"\" this will try to statistically describe the relationship between the number of volumes a manga has and the chance it's on hiatus\"\"\"\n",
    "        hiatus=self.data[self.data['Hiatus']==True]\n",
    "        no_hiatus=self.data[self.data['Hiatus']==False]\n",
    "        return f\"the average value of volumes for manga that have been on hiatus is {round(hiatus['No._of_collected_volumes'].mean(),2)} and for those without it was {round(no_hiatus['No._of_collected_volumes'].mean(),2)}\"\n",
    "    \n",
    "    def hiatus_pie_chart(self):\n",
    "        \"\"\"this will return a pie chart of the amount of series that are on hiatus vs the amount of series that aren't\"\"\"\n",
    "\n",
    "        on_hiatus_count = self.data[self.data['Hiatus'] == True].shape[0]\n",
    "        not_on_hiatus_count = self.data[self.data['Hiatus'] == False].shape[0]\n",
    "\n",
    "        perc_on = ((on_hiatus_count)/len(self.data['Hiatus']))*100\n",
    "        perc_not_on = ((not_on_hiatus_count)/len(self.data['Hiatus']))*100\n",
    "\n",
    "        data_points=[perc_on,perc_not_on]\n",
    "        mylabels=[\"have been on hiatus\", \"haven't been on hiatus\"]\n",
    "\n",
    "        fig=plt.figure()\n",
    "        ax = fig.add_subplot()\n",
    "\n",
    "        ax.pie(data_points, labels=mylabels, autopct='%1.1f%%')\n",
    "        ax.legend(loc='upper left')\n",
    "        plt.show()\n",
    "        \n",
    "    def Demographic_bar_chart(self):\n",
    "        \"\"\"Creates bar chart showing the total sales of each Demographic of manga\"\"\"\n",
    "        #gets a single instance of each demographic \n",
    "        Demographics=self.data['Demographic'].unique()\n",
    "        #initalising  subplot\n",
    "        fig=plt.figure()\n",
    "        ax = fig.add_subplot()\n",
    "        #will sum the average sales for each demographic\n",
    "        Sales_by_Demo=[]\n",
    "        for i in range(len(Demographics)):\n",
    "            Sales_by_Demo.append(self.data[self.data['Demographic']==Demographics[i]]['Approximate_sales'].sum())\n",
    "        #plots data\n",
    "        ax.bar(Demographics,Sales_by_Demo, color=['green','red','blue','orange'])\n",
    "        plt.show()\n",
    "\n",
    "    def Average_Approximate(self, brute):\n",
    "        \"\"\"Creates a scatter plot and regression line for average sales per volume vs. approximate sales\"\"\"\n",
    "        if np.abs(np.corrcoef(self.data['Average_sales_per_volume'], self.data['Approximate_sales'])[0,1])>=0.5 or brute==True:\n",
    "\n",
    "            fig, ax = plt.subplots()\n",
    "        \n",
    "            #Scatter plot of the data\n",
    "            ax.plot(self.data['Average_sales_per_volume'], self.data['Approximate_sales'], linestyle='', color='k', marker='x', label='Sales data')\n",
    "            ax.set_xlabel(\"Average sales per volume\")\n",
    "            ax.set_ylabel(\"Approximate sales\")\n",
    "            ax.set_xlim(0,)\n",
    "            ax.set_ylim(0,)\n",
    "            \n",
    "            #Calculate standard deviations\n",
    "            std_av = self.data['Average_sales_per_volume'].std()\n",
    "            std_ap = self.data['Approximate_sales'].std()\n",
    "            \n",
    "            #Filters outliers outside 3 standard deviations of the mean\n",
    "            xs = self.data[(self.data['Average_sales_per_volume'] < self.data['Average_sales_per_volume'].mean() + 3 * std_av) &\n",
    "                        (self.data['Average_sales_per_volume'] > self.data['Average_sales_per_volume'].mean() - 3 * std_av)]['Average_sales_per_volume']\n",
    "            \n",
    "            ys = self.data[(self.data['Approximate_sales'] < self.data['Approximate_sales'].mean() + 3 * std_ap) &\n",
    "                        (self.data['Approximate_sales'] > self.data['Approximate_sales'].mean() - 3 * std_ap)]['Approximate_sales']\n",
    "    \n",
    "            m = (xs.size * (xs * ys).sum() - xs.sum() * ys.sum()) / (xs.size * (xs ** 2).sum() - xs.sum() ** 2)\n",
    "            C = ys.mean() - m * xs.mean()\n",
    "\n",
    "            xvals = np.linspace(0, xs.max(), 100)\n",
    "            ax.plot(xvals, self.straightline(xvals, m, C), linestyle='--', label='Regression line')\n",
    "            ax.legend(loc='upper left')\n",
    "            plt.show()\n",
    "\n",
    "        else:\n",
    "            return f\"the value returned from the correlation calculation was {round(np.corrcoef(self.data['Average_sales_per_volume'], self.data['Approximate_sales'])[0,1],2)} which isn't significant enough for there to be any calculation of regression to be done\"\n",
    "\n",
    "    def straightline(self,x,m,C):\n",
    "        return m*x+C\n",
    "\n",
    "    def run_time(self, name):\n",
    "        \"\"\"Takes the name of the series as 'name' and returns the run time of the series in years\"\"\"\n",
    "        #Find the row for the specified manga series\n",
    "        series_row = self.data[self.data['Manga_series'] == name]\n",
    "        if series_row.empty:\n",
    "            #Return None if the series is not found (could also raise an exception)\n",
    "            return None\n",
    "        \n",
    "        #Extracts the serialized dates\n",
    "        serialized = series_row['Serialized'].values[0]\n",
    "        #Handle both hyphen and en dash\n",
    "        if ' - ' in serialized:\n",
    "            #map here was used so that each value could be converted into integers efficiently\n",
    "            start_year, end_year = map(int, serialized.split(' - '))\n",
    "        elif '–' in serialized:\n",
    "            #map here was used so that each value could be converted into integers efficiently\n",
    "            start_year, end_year = map(int, serialized.split('–'))\n",
    "        else:\n",
    "            raise ValueError(f\"Unexpected date format: {serialized}\")\n",
    "        #Calculate the duration in years (inclusive of both start and end year)\n",
    "        duration = end_year - start_year + 1\n",
    "        if duration != 0:\n",
    "            return f\"{duration} years\"\n",
    "        else:\n",
    "            return \"it's been around around for less than a year\""
   ]
  },
  {
   "cell_type": "code",
   "execution_count": 19,
   "metadata": {},
   "outputs": [],
   "source": [
    "test = analysis(df)"
   ]
  },
  {
   "cell_type": "code",
   "execution_count": 20,
   "metadata": {},
   "outputs": [
    {
     "data": {
      "text/plain": [
       "['Shueisha']"
      ]
     },
     "execution_count": 20,
     "metadata": {},
     "output_type": "execute_result"
    }
   ],
   "source": [
    "test.top_mangas_publisher()"
   ]
  },
  {
   "cell_type": "code",
   "execution_count": 21,
   "metadata": {},
   "outputs": [
    {
     "data": {
      "text/plain": [
       "'the average value of volumes for manga that have been on hiatus is 38.83 and for those without it was 46.25'"
      ]
     },
     "execution_count": 21,
     "metadata": {},
     "output_type": "execute_result"
    }
   ],
   "source": [
    "test.volumes_hiatus_rel()"
   ]
  },
  {
   "cell_type": "code",
   "execution_count": 22,
   "metadata": {},
   "outputs": [
    {
     "data": {
      "image/png": "[encoded data removed]",
      "text/plain": [
       "<Figure size 640x480 with 1 Axes>"
      ]
     },
     "metadata": {},
     "output_type": "display_data"
    }
   ],
   "source": [
    "test.hiatus_pie_chart()"
   ]
  },
  {
   "cell_type": "markdown",
   "metadata": {},
   "source": [
    "This may show that there is a significant amount of teenage boys reading manga as shonen appeals to that demographic"
   ]
  },
  {
   "cell_type": "code",
   "execution_count": 23,
   "metadata": {},
   "outputs": [
    {
     "data": {
      "image/png": "[encoded data removed]",
      "text/plain": [
       "<Figure size 640x480 with 1 Axes>"
      ]
     },
     "metadata": {},
     "output_type": "display_data"
    }
   ],
   "source": [
    "test.Demographic_bar_chart()"
   ]
  },
  {
   "cell_type": "code",
   "execution_count": 24,
   "metadata": {},
   "outputs": [
    {
     "data": {
      "text/plain": [
       "\"the value returned from the correlation calculation was 0.3 which isn't significant enough for there to be any calculation of regression to be done\""
      ]
     },
     "execution_count": 24,
     "metadata": {},
     "output_type": "execute_result"
    }
   ],
   "source": [
    "test.Average_Approximate(False)"
   ]
  },
  {
   "cell_type": "code",
   "execution_count": 25,
   "metadata": {},
   "outputs": [
    {
     "data": {
      "image/png": "[encoded data removed]",
      "text/plain": [
       "<Figure size 640x480 with 1 Axes>"
      ]
     },
     "metadata": {},
     "output_type": "display_data"
    }
   ],
   "source": [
    "#here we show what it would look like if we performed the regression regardless of there being a correlation or not\n",
    "test.Average_Approximate(True)"
   ]
  },
  {
   "cell_type": "code",
   "execution_count": 26,
   "metadata": {},
   "outputs": [
    {
     "data": {
      "text/plain": [
       "'44 years'"
      ]
     },
     "execution_count": 26,
     "metadata": {},
     "output_type": "execute_result"
    }
   ],
   "source": [
    "test.run_time('Captain Tsubasa')"
   ]
  }
 ],
 "metadata": {
  "kernelspec": {
   "display_name": "base",
   "language": "python",
   "name": "python3"
  },
  "language_info": {
   "codemirror_mode": {
    "name": "ipython",
    "version": 3
   },
   "file_extension": ".py",
   "mimetype": "text/x-python",
   "name": "python",
   "nbconvert_exporter": "python",
   "pygments_lexer": "ipython3",
   "version": "3.11.9"
  }
 },
 "nbformat": 4,
 "nbformat_minor": 2
}
